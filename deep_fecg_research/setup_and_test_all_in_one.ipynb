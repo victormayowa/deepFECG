{
 "cells": [
  {
   "cell_type": "markdown",
   "metadata": {},
   "source": [
    "# Deep FECG Research: All-in-One Setup and Test Notebook\n",
    "\n",
    "This notebook contains all the commands for setting up your environment and running a test of the `deep-fecg-research` project. Please read the instructions carefully, especially regarding environment activation.\n",
    "\n",
    "**IMPORTANT:** While all commands are listed here, the `pyenv activate` command *must* be run in your terminal *before* you launch Jupyter Notebook or JupyterLab. Running it within a notebook cell will not correctly activate the environment for the Jupyter kernel."
   ]
  },
  {
   "cell_type": "markdown",
   "metadata": {},
   "source": [
    "## 1. Activate Python Environment (Run this in your Terminal FIRST!)\n",
    "\n",
    "**Do NOT run this cell in Jupyter.** Copy and paste this command into your terminal and execute it there. Then, from the *same terminal*, launch Jupyter Notebook or JupyterLab.\n",
    "\n",
    "```bash\n",
    "pyenv activate deepforest\n",
    "```\n",
    "\n",
    "Once you have activated the environment and launched Jupyter, you can proceed with the cells below."
   ]
  },
  {
   "cell_type": "code",
   "execution_count": null,
   "metadata": {},
   "outputs": [],
   "source": [
    "# This cell is for demonstration purposes only. \n",
    "# It will NOT activate the environment for subsequent cells in Jupyter.\n",
    "# You MUST run 'pyenv activate deepforest' in your terminal before starting Jupyter.\n",
    "# !pyenv activate deepforest # Uncomment and run in terminal, not here."
   ]
  },
  {
   "cell_type": "markdown",
   "metadata": {},
   "source": [
    "## 2. Install `uv` (if not already installed)\n",
    "\n",
    "`uv` is a fast Python package installer and resolver. We'll use it to manage project dependencies. Run this cell to install `uv` into your active environment.\n",
    "\n",
    "*(The `!` prefix runs the command in the shell from within Jupyter.)*"
   ]
  },
  {
   "cell_type": "code",
   "execution_count": null,
   "metadata": {},
   "outputs": [],
   "source": [
    "!pip install uv"
   ]
  },
  {
   "cell_type": "markdown",
   "metadata": {},
   "source": [
    "## 3. Install/Reinstall Project Dependencies with `uv`\n",
    "\n",
    "The `numpy.dtype` size error often indicates a binary incompatibility. To resolve this, we'll force a reinstallation of all project dependencies using `uv`. The `--active` flag ensures `uv` targets your currently active `pyenv` environment.\n",
    "\n",
    "*(This step might take a few moments as it downloads and reinstalls packages.)*"
   ]
  },
  {
   "cell_type": "code",
   "execution_count": null,
   "metadata": {},
   "outputs": [],
   "source": [
    "!uv pip install --force-reinstall -r requirements.txt --active"
   ]
  },
  {
   "cell_type": "markdown",
   "metadata": {},
   "source": [
    "## 4. Run a Small Test\n",
    "\n",
    "Now that the dependencies should be correctly installed, we can run `main.py` with a small dataset to verify the setup. We'll use the `--max_records` argument to limit the data processed and `--feature_extractor MFCC`.\n",
    "\n",
    "*(This will execute your `main.py` script and print its output below the cell.)*"
   ]
  },
  {
   "cell_type": "code",
   "execution_count": null,
   "metadata": {},
   "outputs": [],
   "source": [
    "!python main.py --feature_extractor MFCC --max_records 10"
   ]
  },
  {
   "cell_type": "markdown",
   "metadata": {},
   "source": [
    "## Conclusion\n",
    "\n",
    "If the last cell executed without the `numpy.dtype` error and showed output from `main.py` (e.g., \"Starting data preprocessing...\"), your environment is correctly set up for the `deep-fecg-research` project. You can now proceed with your research!"
   ]
  }
 ],
 "metadata": {
  "kernelspec": {
   "display_name": "Python 3",
   "language": "python",
   "name": "python3"
  },
  "language_info": {
   "codemirror_mode": {
    "name": "ipython",
    "version": 3
   },
   "file_extension": ".py",
   "mimetype": "text/x-python",
   "name": "python",
   "nbconvert_exporter": "python",
   "pygments_lexer": "ipython3",
   "version": "3.9.18"
  }
 },
 "nbformat": 4,
 "nbformat_minor": 4
}